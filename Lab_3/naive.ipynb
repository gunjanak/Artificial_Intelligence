{
 "cells": [
  {
   "cell_type": "markdown",
   "id": "93127b19",
   "metadata": {},
   "source": [
    "# Without using Sklearn"
   ]
  },
  {
   "cell_type": "code",
   "execution_count": 1,
   "id": "5fe3b340",
   "metadata": {},
   "outputs": [],
   "source": [
    "from collections import defaultdict\n",
    "import math"
   ]
  },
  {
   "cell_type": "code",
   "execution_count": 9,
   "id": "e19d3342",
   "metadata": {},
   "outputs": [],
   "source": [
    "class NaiveBayesClassifier:\n",
    "    def __init__(self):\n",
    "        self.class_probs = {}\n",
    "        self.feature_probs = {}\n",
    "        self.labels = set()\n",
    "\n",
    "    def train(self, X, y):\n",
    "        total = len(y)\n",
    "        label_counts = defaultdict(int)\n",
    "        feature_counts = defaultdict(lambda: defaultdict(int))\n",
    "        self.labels = set(y)\n",
    "\n",
    "        for features, label in zip(X, y):\n",
    "            label_counts[label] += 1\n",
    "            for i, value in enumerate(features):\n",
    "                feature_counts[(i, label)][value] += 1\n",
    "\n",
    "        # Prior probabilities P(class)\n",
    "        self.class_probs = {label: count / total for label, count in label_counts.items()}\n",
    "\n",
    "        # Conditional probabilities P(feature=value | class)\n",
    "        self.feature_probs = {}\n",
    "        for (i, label), val_counts in feature_counts.items():\n",
    "            total_label_count = label_counts[label]\n",
    "            self.feature_probs[(i, label)] = {\n",
    "                val: count / total_label_count for val, count in val_counts.items()\n",
    "            }\n",
    "\n",
    "    def predict(self, features):\n",
    "        results = {}\n",
    "        for label in self.labels:\n",
    "            log_prob = math.log(self.class_probs[label])\n",
    "            for i, value in enumerate(features):\n",
    "                prob = self.feature_probs.get((i, label), {}).get(value, 1e-6)  # Smoothing\n",
    "                log_prob += math.log(prob)\n",
    "            results[label] = log_prob\n",
    "        return max(results, key=results.get)\n"
   ]
  },
  {
   "cell_type": "code",
   "execution_count": 20,
   "id": "a6d40398",
   "metadata": {},
   "outputs": [],
   "source": [
    "# Define training data\n",
    "X = [\n",
    "    ['Rainy', 'Hot', 'High', False],\n",
    "    ['Rainy', 'Hot', 'High', True],\n",
    "    ['Overcast', 'Hot', 'High', False],\n",
    "    ['Sunny', 'Mild', 'High', False],\n",
    "    ['Sunny', 'Cool', 'Normal', False],\n",
    "    ['Sunny', 'Cool', 'Normal', True],\n",
    "    ['Overcast', 'Cool', 'Normal', True],\n",
    "    ['Rainy', 'Mild', 'High', False],\n",
    "    ['Rainy', 'Cool', 'Normal', False],\n",
    "    ['Sunny', 'Mild', 'Normal', False],\n",
    "    ['Rainy', 'Mild', 'Normal', True],\n",
    "    ['Overcast', 'Mild', 'High', True],\n",
    "    ['Overcast', 'Hot', 'Normal', False],\n",
    "    ['Sunny', 'Mild', 'High', True]\n",
    "]"
   ]
  },
  {
   "cell_type": "code",
   "execution_count": 21,
   "id": "27e43fa3",
   "metadata": {},
   "outputs": [],
   "source": [
    "y = [\n",
    "    'No', 'No', 'Yes', 'Yes', 'Yes', 'No', 'Yes',\n",
    "    'No', 'Yes', 'Yes', 'Yes', 'Yes', 'Yes', 'No'\n",
    "]"
   ]
  },
  {
   "cell_type": "code",
   "execution_count": 22,
   "id": "49bc48ed",
   "metadata": {},
   "outputs": [
    {
     "name": "stdout",
     "output_type": "stream",
     "text": [
      "Prediction for ['Overcast', 'Hot', 'Normal', False]: Yes\n"
     ]
    }
   ],
   "source": [
    "# Train the model\n",
    "nb = NaiveBayesClassifier()\n",
    "nb.train(X, y)\n",
    "\n",
    "# Predict on new data\n",
    "test_instance = ['Overcast', 'Hot', 'Normal', False]\n",
    "prediction = nb.predict(test_instance)\n",
    "print(f\"Prediction for {test_instance}: {prediction}\")"
   ]
  },
  {
   "cell_type": "markdown",
   "id": "5bf8a2de",
   "metadata": {},
   "source": [
    "# Using sklearn"
   ]
  },
  {
   "cell_type": "code",
   "execution_count": 25,
   "id": "c8e23123",
   "metadata": {},
   "outputs": [
    {
     "name": "stdout",
     "output_type": "stream",
     "text": [
      "Prediction for ['Overcast', 'Hot', 'Normal', False]: Yes\n"
     ]
    }
   ],
   "source": [
    "from sklearn.naive_bayes import CategoricalNB\n",
    "from sklearn.preprocessing import LabelEncoder\n",
    "import numpy as np\n",
    "\n",
    "\n",
    "\n",
    "# Transpose X to encode column-wise\n",
    "X_array = np.array(X)\n",
    "encoders = []\n",
    "\n",
    "# Encode each column of X\n",
    "X_encoded = []\n",
    "for i in range(X_array.shape[1]):\n",
    "    le = LabelEncoder()\n",
    "    col = X_array[:, i]\n",
    "    X_encoded.append(le.fit_transform(col))\n",
    "    encoders.append(le)\n",
    "\n",
    "# Combine all encoded columns back into shape (n_samples, n_features)\n",
    "X_encoded = np.array(X_encoded).T\n",
    "\n",
    "# Encode labels y\n",
    "label_encoder = LabelEncoder()\n",
    "y_encoded = label_encoder.fit_transform(y)\n",
    "\n",
    "# Train Naive Bayes model\n",
    "model = CategoricalNB()\n",
    "model.fit(X_encoded, y_encoded)\n",
    "\n",
    "# Example prediction: ['Sunny', 'Cool', 'High', True]\n",
    "test_instance = ['Overcast', 'Hot', 'Normal', False]\n",
    "test_encoded = [\n",
    "    encoders[0].transform([test_instance[0]])[0],\n",
    "    encoders[1].transform([test_instance[1]])[0],\n",
    "    encoders[2].transform([test_instance[2]])[0],\n",
    "    encoders[3].transform([test_instance[3]])[0],\n",
    "]\n",
    "\n",
    "# Predict\n",
    "predicted = model.predict([test_encoded])\n",
    "predicted_label = label_encoder.inverse_transform(predicted)[0]\n",
    "print(f\"Prediction for {test_instance}: {predicted_label}\")\n"
   ]
  }
 ],
 "metadata": {
  "kernelspec": {
   "display_name": "venv",
   "language": "python",
   "name": "python3"
  },
  "language_info": {
   "codemirror_mode": {
    "name": "ipython",
    "version": 3
   },
   "file_extension": ".py",
   "mimetype": "text/x-python",
   "name": "python",
   "nbconvert_exporter": "python",
   "pygments_lexer": "ipython3",
   "version": "3.10.12"
  }
 },
 "nbformat": 4,
 "nbformat_minor": 5
}
