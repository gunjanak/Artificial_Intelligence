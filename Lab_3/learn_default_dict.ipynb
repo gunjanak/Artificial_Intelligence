{
 "cells": [
  {
   "cell_type": "markdown",
   "id": "0442a795",
   "metadata": {},
   "source": [
    "**What is defaultdict?**"
   ]
  },
  {
   "cell_type": "markdown",
   "id": "abdf8794",
   "metadata": {},
   "source": [
    "A defaultdict is like a regular python dictionary (dict), but it provides default values automatically when you try to access a key that doesn't exist."
   ]
  },
  {
   "cell_type": "code",
   "execution_count": 1,
   "id": "dbd934b5",
   "metadata": {},
   "outputs": [],
   "source": [
    "from collections import defaultdict"
   ]
  },
  {
   "cell_type": "code",
   "execution_count": 2,
   "id": "290827df",
   "metadata": {},
   "outputs": [],
   "source": [
    "word_count = defaultdict(int)\n",
    "words = ['apple','banana','apple','orange','apple','banana','banana','apple']"
   ]
  },
  {
   "cell_type": "code",
   "execution_count": 3,
   "id": "7b37b95a",
   "metadata": {},
   "outputs": [
    {
     "name": "stdout",
     "output_type": "stream",
     "text": [
      "defaultdict(<class 'int'>, {'apple': 4, 'banana': 3, 'orange': 1})\n"
     ]
    }
   ],
   "source": [
    "for word in words:\n",
    "    word_count[word] += 1\n",
    "    \n",
    "print(word_count)"
   ]
  },
  {
   "cell_type": "markdown",
   "id": "80ff9640",
   "metadata": {},
   "source": [
    "**Grouping items**"
   ]
  },
  {
   "cell_type": "code",
   "execution_count": 4,
   "id": "1dcf63c0",
   "metadata": {},
   "outputs": [
    {
     "name": "stdout",
     "output_type": "stream",
     "text": [
      "defaultdict(<class 'list'>, {'a': [1, 3], 'b': [2, 4, 6], 'c': [5]})\n"
     ]
    }
   ],
   "source": [
    "grouped = defaultdict(list)\n",
    "pairs = [('a',1),('b',2),('a',3),('b',4),('c',5),('b',6)]\n",
    "for key,value in pairs:\n",
    "    grouped[key].append(value)\n",
    "    \n",
    "print(grouped)"
   ]
  },
  {
   "cell_type": "markdown",
   "id": "b1c99700",
   "metadata": {},
   "source": [
    "**Grouping sets**"
   ]
  },
  {
   "cell_type": "code",
   "execution_count": 5,
   "metadata": {},
   "outputs": [
    {
     "name": "stdout",
     "output_type": "stream",
     "text": [
      "defaultdict(<class 'set'>, {'Math': {'Alice', 'Charlie'}, 'Science': {'Alice', 'Bob'}, 'History': {'Bob'}})\n"
     ]
    }
   ],
   "source": [
    "#create defaultdict with default type set\n",
    "students_by_subject = defaultdict(set)\n",
    "#data : (subject,student)\n",
    "data = [('Math',\"Alice\"),('Science','Bob'),('Math','Charlie'),('Math','Alice'),('Science','Alice'),('History','Bob')]\n",
    "\n",
    "#group students under each subject\n",
    "for subject,student in data:\n",
    "    students_by_subject[subject].add(student)\n",
    "    \n",
    "print(students_by_subject)"
   ]
  },
  {
   "cell_type": "code",
   "execution_count": 6,
   "id": "99478a4c",
   "metadata": {},
   "outputs": [
    {
     "name": "stdout",
     "output_type": "stream",
     "text": [
      "defaultdict(<class 'set'>, {'Alice': {'Math', 'Science'}, 'Bob': {'Science', 'History'}, 'Charlie': {'Math'}})\n"
     ]
    }
   ],
   "source": [
    "#create defaultdict with default type set\n",
    "subjects_by_students = defaultdict(set)\n",
    "#data : (subject,student)\n",
    "data = [('Math',\"Alice\"),('Science','Bob'),('Math','Charlie'),('Math','Alice'),('Science','Alice'),('History','Bob')]\n",
    "\n",
    "#group students under each subject\n",
    "for subject,student in data:\n",
    "    subjects_by_students[student].add(subject)\n",
    "    \n",
    "print(subjects_by_students)"
   ]
  },
  {
   "cell_type": "markdown",
   "id": "519d69da",
   "metadata": {},
   "source": [
    "**Nested Defaultdict**"
   ]
  },
  {
   "cell_type": "code",
   "execution_count": 7,
   "id": "9ec9ae63",
   "metadata": {},
   "outputs": [
    {
     "name": "stdout",
     "output_type": "stream",
     "text": [
      "defaultdict(<function <lambda> at 0x6fffec651cf0>, {'fruit': defaultdict(<class 'int'>, {'apple': 1, 'banana': 2}), 'cars': defaultdict(<class 'int'>, {'SF90': 3, 'Monza': 2})})\n"
     ]
    }
   ],
   "source": [
    "nested = defaultdict(lambda:defaultdict(int))\n",
    "nested['fruit']['apple']+=1\n",
    "nested['fruit']['banana']+=2\n",
    "nested['cars']['SF90']+=3\n",
    "nested['cars']['Monza']+=2\n",
    "print(nested)"
   ]
  },
  {
   "cell_type": "markdown",
   "id": "23e1d5e1",
   "metadata": {},
   "source": [
    "**Nested with list - grouping items**"
   ]
  },
  {
   "cell_type": "code",
   "execution_count": 8,
   "id": "ae51a040",
   "metadata": {},
   "outputs": [
    {
     "name": "stdout",
     "output_type": "stream",
     "text": [
      "defaultdict(<function <lambda> at 0x6fffec651a20>, {'class1': defaultdict(<class 'list'>, {'math': ['Alice', 'Bob'], 'science': ['Charlie']}), 'class2': defaultdict(<class 'list'>, {'math': ['David']})})\n"
     ]
    }
   ],
   "source": [
    "nested = defaultdict(lambda: defaultdict(list))\n",
    "nested['class1']['math'].append('Alice')\n",
    "nested['class1']['math'].append('Bob')\n",
    "nested['class1']['science'].append('Charlie')\n",
    "nested['class2']['math'].append('David')\n",
    "\n",
    "print(nested)\n"
   ]
  },
  {
   "cell_type": "markdown",
   "id": "78da4aa7",
   "metadata": {},
   "source": [
    "**Nested with set - grouping with uniqueness**"
   ]
  },
  {
   "cell_type": "code",
   "execution_count": 9,
   "id": "9dfd2c4f",
   "metadata": {},
   "outputs": [
    {
     "name": "stdout",
     "output_type": "stream",
     "text": [
      "defaultdict(<function <lambda> at 0x6fffec651fc0>, {'fruits': defaultdict(<class 'set'>, {'red': {'apple', 'cherry'}, 'yellow': {'banana'}}), 'vehicles': defaultdict(<class 'set'>, {'fast': {'car', 'bike'}})})\n"
     ]
    }
   ],
   "source": [
    "nested = defaultdict(lambda: defaultdict(set))\n",
    "nested['fruits']['red'].add('apple')\n",
    "nested['fruits']['red'].add('cherry')\n",
    "nested['fruits']['yellow'].add('banana')\n",
    "nested['vehicles']['fast'].add('car')\n",
    "nested['vehicles']['fast'].add('bike')\n",
    "nested['vehicles']['fast'].add('car')  # duplicate, ignored\n",
    "\n",
    "print(nested)\n"
   ]
  },
  {
   "cell_type": "markdown",
   "id": "7336268e",
   "metadata": {},
   "source": [
    "**Nested with custom default values**"
   ]
  },
  {
   "cell_type": "code",
   "execution_count": 11,
   "id": "18969a88",
   "metadata": {},
   "outputs": [
    {
     "name": "stdout",
     "output_type": "stream",
     "text": [
      "100\n",
      "150\n",
      "defaultdict(<function <lambda> at 0x6fffec651a20>, {'products': defaultdict(<function <lambda>.<locals>.<lambda> at 0x6fffec651cf0>, {'price': 150})})\n"
     ]
    }
   ],
   "source": [
    "nested = defaultdict(lambda: defaultdict(lambda: 100))\n",
    "print(nested['products']['price'])  # 100\n",
    "nested['products']['price'] += 50\n",
    "print(nested['products']['price'])  # 150\n",
    "print(nested)\n"
   ]
  },
  {
   "cell_type": "code",
   "execution_count": 13,
   "id": "87029459",
   "metadata": {},
   "outputs": [
    {
     "name": "stdout",
     "output_type": "stream",
     "text": [
      "Initial price at StoreA for Soap: 100\n",
      "Price at StoreC for Toothpaste (not updated): 100\n",
      "\n",
      "Prices in StoreA:\n",
      "  Soap: 120\n",
      "  Shampoo: 200\n",
      "\n",
      "Prices in StoreB:\n",
      "  Soap: 90\n",
      "\n",
      "Prices in StoreC:\n",
      "  Toothpaste: 100\n"
     ]
    }
   ],
   "source": [
    "from collections import defaultdict\n",
    "\n",
    "# Nested defaultdict: default price is 100\n",
    "store_prices = defaultdict(lambda: defaultdict(lambda: 100))\n",
    "\n",
    "# Accessing a product that doesn't exist yet\n",
    "print(\"Initial price at StoreA for Soap:\", store_prices['StoreA']['Soap'])  # 100\n",
    "\n",
    "# Updating prices\n",
    "store_prices['StoreA']['Soap'] += 20     # New price becomes 120\n",
    "store_prices['StoreA']['Shampoo'] = 200  # Override default\n",
    "store_prices['StoreB']['Soap'] -= 10     # Reduce price to 90\n",
    "\n",
    "# Accessing other defaults\n",
    "print(\"Price at StoreC for Toothpaste (not updated):\", store_prices['StoreC']['Toothpaste'])  # 100\n",
    "\n",
    "# Display all prices\n",
    "for store, products in store_prices.items():\n",
    "    print(f\"\\nPrices in {store}:\")\n",
    "    for product, price in products.items():\n",
    "        print(f\"  {product}: {price}\")\n"
   ]
  },
  {
   "cell_type": "code",
   "execution_count": null,
   "id": "12bad4ba",
   "metadata": {},
   "outputs": [],
   "source": []
  }
 ],
 "metadata": {
  "kernelspec": {
   "display_name": "venv",
   "language": "python",
   "name": "python3"
  },
  "language_info": {
   "codemirror_mode": {
    "name": "ipython",
    "version": 3
   },
   "file_extension": ".py",
   "mimetype": "text/x-python",
   "name": "python",
   "nbconvert_exporter": "python",
   "pygments_lexer": "ipython3",
   "version": "3.10.12"
  }
 },
 "nbformat": 4,
 "nbformat_minor": 5
}
