{
 "cells": [
  {
   "cell_type": "code",
   "execution_count": 3,
   "id": "2d10d915",
   "metadata": {},
   "outputs": [
    {
     "data": {
      "text/plain": [
       "2"
      ]
     },
     "execution_count": 3,
     "metadata": {},
     "output_type": "execute_result"
    }
   ],
   "source": [
    "1+1"
   ]
  },
  {
   "cell_type": "code",
   "execution_count": 4,
   "id": "b8f291bf",
   "metadata": {},
   "outputs": [
    {
     "name": "stdout",
     "output_type": "stream",
     "text": [
      "AI\n"
     ]
    }
   ],
   "source": [
    "print(\"AI\")"
   ]
  },
  {
   "cell_type": "code",
   "execution_count": 5,
   "id": "ca42036a",
   "metadata": {},
   "outputs": [
    {
     "name": "stdout",
     "output_type": "stream",
     "text": [
      "Ar I\n"
     ]
    }
   ],
   "source": [
    "print(\"Ar I\")"
   ]
  },
  {
   "cell_type": "markdown",
   "id": "2972d66e",
   "metadata": {},
   "source": [
    "**AI Class**"
   ]
  },
  {
   "cell_type": "code",
   "execution_count": 6,
   "id": "110d37b6",
   "metadata": {},
   "outputs": [
    {
     "name": "stdout",
     "output_type": "stream",
     "text": [
      "Lalitpur\n"
     ]
    }
   ],
   "source": [
    "city = input(\"Enter name of your city\")\n",
    "print(city)"
   ]
  },
  {
   "cell_type": "markdown",
   "id": "511d6716",
   "metadata": {},
   "source": [
    "**Maths in Python**"
   ]
  },
  {
   "cell_type": "code",
   "execution_count": 7,
   "id": "9367b9ef",
   "metadata": {},
   "outputs": [
    {
     "name": "stdout",
     "output_type": "stream",
     "text": [
      "8\n"
     ]
    }
   ],
   "source": [
    "print(2**3)"
   ]
  },
  {
   "cell_type": "markdown",
   "id": "033c30d2",
   "metadata": {},
   "source": [
    "**Functions in Python**"
   ]
  },
  {
   "cell_type": "code",
   "execution_count": 9,
   "id": "f756675b",
   "metadata": {},
   "outputs": [],
   "source": [
    "def full_name(first_name,last_name):\n",
    "    print(f\"Hello {first_name} {last_name}\")"
   ]
  },
  {
   "cell_type": "code",
   "execution_count": 10,
   "id": "fa66e115",
   "metadata": {},
   "outputs": [
    {
     "name": "stdout",
     "output_type": "stream",
     "text": [
      "Hello A B\n"
     ]
    }
   ],
   "source": [
    "first_name = input(\"Enter your name\")\n",
    "last_name = input(\"Enter your last name\")\n",
    "full_name(first_name,last_name)"
   ]
  },
  {
   "cell_type": "code",
   "execution_count": 11,
   "id": "b7102fc3",
   "metadata": {},
   "outputs": [],
   "source": [
    "def full_name_with_mid(first_name,last_name,mid_name=\"Python\"):\n",
    "    print(f\"My name is {first_name} {mid_name} {last_name}\")"
   ]
  },
  {
   "cell_type": "code",
   "execution_count": null,
   "id": "03f0fcb7",
   "metadata": {},
   "outputs": [],
   "source": [
    "first_name = input(\"Enter your name\")\n",
    "last_name = input(\"Enter your last name\")\n",
    "full_name_with_mid(first_name,last_name)"
   ]
  },
  {
   "cell_type": "code",
   "execution_count": null,
   "id": "17b30a3d",
   "metadata": {},
   "outputs": [],
   "source": [
    "first_name = input(\"Enter your name\")\n",
    "last_name = input(\"Enter your last name\")\n",
    "mid_name = input(\"Enter mid-name\")\n",
    "full_name_with_mid(first_name,last_name,mid_name)"
   ]
  },
  {
   "cell_type": "code",
   "execution_count": null,
   "id": "11b21e0e",
   "metadata": {},
   "outputs": [],
   "source": []
  }
 ],
 "metadata": {
  "kernelspec": {
   "display_name": "venv",
   "language": "python",
   "name": "python3"
  },
  "language_info": {
   "codemirror_mode": {
    "name": "ipython",
    "version": 3
   },
   "file_extension": ".py",
   "mimetype": "text/x-python",
   "name": "python",
   "nbconvert_exporter": "python",
   "pygments_lexer": "ipython3",
   "version": "3.10.12"
  }
 },
 "nbformat": 4,
 "nbformat_minor": 5
}
